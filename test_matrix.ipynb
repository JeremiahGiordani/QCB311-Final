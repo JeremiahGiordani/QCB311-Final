{
 "cells": [
  {
   "cell_type": "code",
   "execution_count": 1,
   "metadata": {},
   "outputs": [
    {
     "name": "stdout",
     "output_type": "stream",
     "text": [
      "(18824, 46022)\n",
      "               TAACAGCCAAGATTGATGGC_1  TAACAGCCAAGACTCACCTT_1  \\\n",
      "RP11-34P13.7                        0                       0   \n",
      "RP11-34P13.8                        0                       0   \n",
      "FO538757.2                          0                       1   \n",
      "AP006222.2                          0                       0   \n",
      "RP11-206L10.9                       0                       1   \n",
      "\n",
      "               TAACAGCCAAAGCAGGCAGC_1  CTAAGAGTCCATCAGTTAAC_1  \\\n",
      "RP11-34P13.7                        0                       0   \n",
      "RP11-34P13.8                        0                       0   \n",
      "FO538757.2                          0                       0   \n",
      "AP006222.2                          0                       0   \n",
      "RP11-206L10.9                       0                       0   \n",
      "\n",
      "               TTACTGCCTTATTAACCGGC_1  TTACTGCCTTGAACGAATTC_1  \\\n",
      "RP11-34P13.7                        0                       0   \n",
      "RP11-34P13.8                        0                       0   \n",
      "FO538757.2                          0                       0   \n",
      "AP006222.2                          0                       0   \n",
      "RP11-206L10.9                       0                       0   \n",
      "\n",
      "               CGCTGAATTCAGCCTCCTAT_1  TGACGTCCTTCTCAACATGT_1  \\\n",
      "RP11-34P13.7                        0                       0   \n",
      "RP11-34P13.8                        0                       0   \n",
      "FO538757.2                          0                       0   \n",
      "AP006222.2                          0                       0   \n",
      "RP11-206L10.9                       0                       0   \n",
      "\n",
      "               GATAATGATGTCGCATCTTG_1  TTGAAGAAGCTCAGATAGAT_1  ...  \\\n",
      "RP11-34P13.7                        0                       0  ...   \n",
      "RP11-34P13.8                        0                       0  ...   \n",
      "FO538757.2                          0                       0  ...   \n",
      "AP006222.2                          0                       0  ...   \n",
      "RP11-206L10.9                       0                       0  ...   \n",
      "\n",
      "               CTTGGCCAATACATCATTGC_23  TCTCCATGACGAGACAACGG_23  \\\n",
      "RP11-34P13.7                         0                        0   \n",
      "RP11-34P13.8                         0                        0   \n",
      "FO538757.2                           0                        0   \n",
      "AP006222.2                           0                        0   \n",
      "RP11-206L10.9                        0                        0   \n",
      "\n",
      "               CTCGAGAGCAGTCGGACCTC_23  CTCGAGAGCAAAGGAATGTA_23  \\\n",
      "RP11-34P13.7                         0                        0   \n",
      "RP11-34P13.8                         0                        0   \n",
      "FO538757.2                           0                        0   \n",
      "AP006222.2                           0                        0   \n",
      "RP11-206L10.9                        0                        0   \n",
      "\n",
      "               GACAAGCCTAGCTAGTAGAA_23  GACAAGCCTAGAACGAATTC_23  \\\n",
      "RP11-34P13.7                         0                        0   \n",
      "RP11-34P13.8                         0                        0   \n",
      "FO538757.2                           0                        0   \n",
      "AP006222.2                           0                        0   \n",
      "RP11-206L10.9                        0                        0   \n",
      "\n",
      "               GACAAGCCTAGAACGCCGTG_23  GGAATCAGTTGAGACAACGG_23  \\\n",
      "RP11-34P13.7                         0                        0   \n",
      "RP11-34P13.8                         0                        0   \n",
      "FO538757.2                           0                        2   \n",
      "AP006222.2                           0                        0   \n",
      "RP11-206L10.9                        0                        0   \n",
      "\n",
      "               AGACTGGAGCGTAGTTCTAG_23  GTCTTCGGCTCGATAAGCAC_23  \n",
      "RP11-34P13.7                         0                        0  \n",
      "RP11-34P13.8                         0                        0  \n",
      "FO538757.2                           0                        0  \n",
      "AP006222.2                           0                        0  \n",
      "RP11-206L10.9                        0                        0  \n",
      "\n",
      "[5 rows x 46022 columns]\n"
     ]
    }
   ],
   "source": [
    "import pandas as pd\n",
    "\n",
    "df = pd.read_csv(\"upload.nCoV.IAV.UMI.matrix.tsv\", sep=\"\\t\", index_col=0)\n",
    "print(df.shape)\n",
    "print(df.head())"
   ]
  }
 ],
 "metadata": {
  "kernelspec": {
   "display_name": "Python 3.12.9 ('env': venv)",
   "language": "python",
   "name": "python3"
  },
  "language_info": {
   "codemirror_mode": {
    "name": "ipython",
    "version": 3
   },
   "file_extension": ".py",
   "mimetype": "text/x-python",
   "name": "python",
   "nbconvert_exporter": "python",
   "pygments_lexer": "ipython3",
   "version": "3.12.9"
  },
  "orig_nbformat": 4,
  "vscode": {
   "interpreter": {
    "hash": "0a2d58d42d6f50da023089f090700d3da7efe6460a1ab9f964faa8a385fec5b2"
   }
  }
 },
 "nbformat": 4,
 "nbformat_minor": 2
}
